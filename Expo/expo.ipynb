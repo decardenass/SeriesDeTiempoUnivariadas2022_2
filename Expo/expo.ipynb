{
 "cells": [
  {
   "cell_type": "markdown",
   "metadata": {},
   "source": [
    "# Ingeniería de características para series de tiempo"
   ]
  },
  {
   "cell_type": "markdown",
   "metadata": {},
   "source": [
    "<center>\n",
    " <ul style=\"list-style: none; align-content: center;\">\n",
    "  <li>Valeria Hernandez Gonzalez - <a href=\"mailto:vahernandez@unal.edu.co\">vahernandez@unal.edu.co</a></li>\n",
    "  <li>Joan Fernando Lamprea Huertas - <a href=\"mailto:jolampreah@unal.edu.co\">jolampreah@unal.edu.co</a></li>\n",
    "  <li>Deivis German Sthid Cárdenas Sánchez - <a href=\"mailto:decardenass@unal.edu.co\">decardenass@unal.edu.co</a></li>\n",
    " </ul>\n",
    "</center>"
   ]
  },
  {
   "cell_type": "code",
   "execution_count": 1,
   "metadata": {},
   "outputs": [],
   "source": [
    "import pandas as pd\n",
    "import numpy as np\n",
    "from matplotlib import pyplot as plt\n",
    "plt.rcParams['figure.figsize'] = [8, 8]\n",
    "import datetime\n",
    "import scipy.stats\n",
    "from matplotlib.pyplot import figure"
   ]
  },
  {
   "cell_type": "code",
   "execution_count": 2,
   "metadata": {},
   "outputs": [],
   "source": [
    "url_1 = 'https://raw.githubusercontent.com/decardenass/SeriesDeTiempoUnivariadas2022_2/main/Proyecto/Datos/Bancolombia_2014_2019.csv'\n",
    "url_2 = 'https://raw.githubusercontent.com/decardenass/SeriesDeTiempoUnivariadas2022_2/main/Proyecto/Datos/Datos%20precipitaci%C3%B3n%20mensual%20hasta%202021.csv'\n",
    "\n",
    "banco_ori = pd.read_csv(url_1, sep = \";\")\n",
    "lluvia_ori = pd.read_csv(url_2, sep = \";\")\n",
    "\n",
    "#print (banco_ori.head(3))\n",
    "#print (lluvia_ori.head(5))"
   ]
  },
  {
   "cell_type": "code",
   "execution_count": 4,
   "metadata": {},
   "outputs": [],
   "source": [
    "banco_inv = banco_ori.loc[:, [\"Fecha\", \"Último\"]]\n",
    "banco = banco_inv[::-1]\n",
    "#banco = banco_fech.loc[\"2016-01-01\": \"2019-12-30\"]\n",
    "#banco.plot('Fecha', 'Último')\n",
    "\n",
    "lluvia = lluvia_ori.loc[:, [\"Fecha\", \"Valor\"]]\n",
    "#lluvia.plot('Fecha', 'Valor')"
   ]
  },
  {
   "cell_type": "markdown",
   "metadata": {},
   "source": [
    "El preprocesamiento de datos y la ingeniería de características es el paso en el que se limpian los conjuntos de datos de valores atípicos y faltantes y se crean características adicionales con los datos sin procesar para alimentar los modelos de aprendizaje automático. Específicamente, la ingeniería de características es el proceso de transformar datos en características para que actúen como entradas para los modelos de aprendizaje automático, de modo que características de buena calidad ayuden a mejorar el rendimiento general del modelo.\n",
    "\n",
    "Considerando arreglos bidimensionales de datos asociados a las series de tiempo, las características iniciales corresponden a las columnas de datos originales en dicho arreglo, mientras que las filas son las observaciones.\n",
    "\n",
    "<div align=\"center\">\n",
    "<img src=\"https://raw.githubusercontent.com/decardenass/SeriesDeTiempoUnivariadas2022_2/main/Expo/Imagenes_expo/Captura%20de%20pantalla%20(32).png\" title=\"Caracteristicas y observaciones\" width=\"70%\" height=\"70%\">\n",
    "</div>\n"
   ]
  },
  {
   "cell_type": "markdown",
   "metadata": {},
   "source": [
    "Las características pueden ser de dos tipos principales según el conjunto de datos\n",
    "\n",
    "* Sin procesar inherentes: Generalmente ya son su conjunto de datos, sin necesidad de manipulación adicional de datos o ingeniería de características, ya que generalmente se originan y recopilan directamente de la fuente de datos.\n",
    "\n",
    "* Derivadas: Se crean a través de la manipulación de datos o la ingeniería de características; en esta etapa, se busca extraer características de los atributos de datos existentes."
   ]
  },
  {
   "cell_type": "markdown",
   "metadata": {},
   "source": [
    "La aplicación de ingeniería de características tienen principalmente dos objetivos:\n",
    "* Crear el conjunto de datos de entrada correcto para alimentar el algoritmo de aprendizaje automático: en este caso, el propósito de la ingeniería de características en la previsión de series temporales es crear características de entrada a partir de datos históricos y de fila y dar forma al conjunto de datos como un problema de aprendizaje supervisado.\n",
    "* Aumentar el rendimiento de los modelos de aprendizaje automático: el segundo objetivo más importante de la ingeniería de características consiste en generar relaciones válidas entre las funciones de entrada y la función de salida o la variable de destino que se va a predecir. De esta manera, se puede mejorar el rendimiento de los modelos de aprendizaje automático."
   ]
  },
  {
   "cell_type": "markdown",
   "metadata": {},
   "source": [
    "Las caracteristicas que más a menudo se presentan con el fin de hacer ingeniería, son las asociadas a fecha, hora, retardos y ventanas, sin embargo y como se menciona previamente, también es importante aplicar otro tipo de transformaciones a los datos, manejar los outliers y hacer imputación de datos.\n",
    "\n",
    "<div align=\"center\">\n",
    "<img src=\"https://raw.githubusercontent.com/decardenass/SeriesDeTiempoUnivariadas2022_2/main/Expo/Imagenes_expo/FETS.png\" title=\"Caracteristicas y observaciones\" width=\"70%\" height=\"70%\">\n",
    "</div>"
   ]
  },
  {
   "cell_type": "markdown",
   "metadata": {},
   "source": [
    "### Transformación, outliers e imputación"
   ]
  },
  {
   "cell_type": "markdown",
   "metadata": {},
   "source": [
    "### Características de fecha y hora"
   ]
  },
  {
   "cell_type": "markdown",
   "metadata": {},
   "source": [
    "### Características de retardos"
   ]
  },
  {
   "cell_type": "markdown",
   "metadata": {},
   "source": [
    "### Características de ventana"
   ]
  },
  {
   "cell_type": "markdown",
   "metadata": {},
   "source": [
    "### Características categóricas"
   ]
  },
  {
   "cell_type": "markdown",
   "metadata": {},
   "source": [
    "# Bibliografía\n",
    "<ul>\n",
    "  <li>A. Bauer, M. Züfle, N. Herbst, S. Kounev and V. Curtef, \"Telescope: An Automatic Feature Extraction and Transformation Approach for Time Series Forecasting on a Level-Playing Field\". <i>2020 IEEE 36th International Conference on Data Engineering (ICDE)</i>, 2020, pp. 1902-1905, DOI: 10.1109/ICDE48307.2020.00199.</li>\n",
    "  <li>Cerqueira, V., Moniz, N. & Soares, C. VEST: automatic feature engineering for forecasting. <i>Mach Learn</i> (2021). <a href=\"https://doi.org/10.1007/s10994-021-05959-y\">https://doi.org/10.1007/s10994-021-05959-y</a>.</li>\n",
    "  <li>Dancho, M. (2020). Time Series Machine Learning (and Feature Engineering) in R. Recuperado 19 Mayo 2022, de <a href=\"https://www.business-science.io/time-series/2020/03/18/time-series-machine-learning.html\">https://www.business-science.io/time-series/2020/03/18/time-series-machine-learning.html</a></li>\n",
    "  <li>Dong, G., & Liu, H. (Eds.). (2018). <i>Feature engineering for machine learning and data analytics</i>. CRC Press.</li>\n",
    "  <li>Duboue, P. (2020). <i>The Art of Feature Engineering: Essentials for Machine Learning</i>. Cambridge University Press.</li>\n",
    "  <li>Hmamouche, Y., Przymus, P., Casali, A., & Lakhal, L. (2017). GFSM: a Feature Selection Method for Improving Time Series Forecasting. <i>International Journal On Advances in Systems and Measurements</i>.</li>\n",
    "  <li>Kuhn, M., & Johnson, K. (2019). <i>Feature engineering and selection: A practical approach for predictive models</i>. CRC Press.</li>\n",
    "  <li>Lazzeri, F. (2020). <i>Machine learning for time series forecasting with Python</i>. John Wiley & Sons.</li>\n",
    "</ul>"
   ]
  },
  {
   "cell_type": "markdown",
   "metadata": {},
   "source": [
    "* https://www.youtube.com/watch?v=9QtL7m3YS9I&t=1467s&ab_channel=PyData\n",
    "* https://github.com/KishManani/DataTalksClub2022/blob/main/Feature%20engineering%20for%20time%20series%20forecasting%20DataTalksClub.pdf\n",
    "* https://otexts.com/fpp3/features.html\n",
    "* https://github.com/krishnaik06/Feature-Engineering-Live-sessions/blob/master/Forecasting%20Facebook%20FbProphet.ipynb\n",
    "* https://towardsdatascience.com/what-is-feature-engineering-importance-tools-and-techniques-for-machine-learning-2080b0269f10\n",
    "* https://github.com/NeuralDojo/Pycaret/blob/main/Anomaly%20Detection/PyCaretDetectAnomalies.ipynb\n",
    "* https://www.analyticsvidhya.com/blog/2019/12/6-powerful-feature-engineering-techniques-time-series/"
   ]
  }
 ],
 "metadata": {
  "kernelspec": {
   "display_name": "Python 3.10.8 ('pruebas_env')",
   "language": "python",
   "name": "python3"
  },
  "language_info": {
   "codemirror_mode": {
    "name": "ipython",
    "version": 3
   },
   "file_extension": ".py",
   "mimetype": "text/x-python",
   "name": "python",
   "nbconvert_exporter": "python",
   "pygments_lexer": "ipython3",
   "version": "3.10.8"
  },
  "orig_nbformat": 4,
  "vscode": {
   "interpreter": {
    "hash": "aea35ceb879e419c3acd09edcc26a1af1f779e221809b5e838f61105df7c14b3"
   }
  }
 },
 "nbformat": 4,
 "nbformat_minor": 2
}
