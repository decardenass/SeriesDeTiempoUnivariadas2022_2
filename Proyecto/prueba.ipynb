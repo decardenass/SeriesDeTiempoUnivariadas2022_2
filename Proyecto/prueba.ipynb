{
 "cells": [
  {
   "cell_type": "code",
   "execution_count": null,
   "metadata": {},
   "outputs": [],
   "source": [
    "hasdkjash"
   ]
  },
  {
   "cell_type": "markdown",
   "metadata": {},
   "source": [
    "asdas"
   ]
  },
  {
   "cell_type": "markdown",
   "metadata": {},
   "source": [
    "asasasa"
   ]
  }
 ],
 "metadata": {
  "language_info": {
   "name": "python"
  },
  "orig_nbformat": 4
 },
 "nbformat": 4,
 "nbformat_minor": 2
}
